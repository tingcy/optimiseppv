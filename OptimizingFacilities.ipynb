{
 "cells": [
  {
   "cell_type": "code",
   "execution_count": 2,
   "metadata": {},
   "outputs": [],
   "source": [
    "#Dewan Orang Ramai A [10 cubes] = 240\n",
    "#Dewan Orang Ramai A [15 cubes] = 360\n",
    "#Dewan Orang Ramai A [20 cubes] = 480\n",
    "#Dewan Orang Ramai A [25 cubes] = 600\n",
    "#Balai Komuniti A [5 cubes] = 120\n",
    "#Balai Komuniti A [10 cubes] = 240 \n",
    "#Balai Komuniti A [15 cubes] = 360"
   ]
  },
  {
   "cell_type": "code",
   "execution_count": 12,
   "metadata": {},
   "outputs": [
    {
     "name": "stdout",
     "output_type": "stream",
     "text": [
      "Number of solutions found: 62\n",
      "\n",
      "DOR_10 = 0, DOR_15 = 0, DOR_20 = 0, DOR_25 = 3, BK_5 = 0, BK_10 = 1, BK_15 = 0\n",
      "DOR_10 = 0, DOR_15 = 0, DOR_20 = 0, DOR_25 = 3, BK_5 = 2, BK_10 = 0, BK_15 = 0\n",
      "DOR_10 = 0, DOR_15 = 0, DOR_20 = 0, DOR_25 = 2, BK_5 = 1, BK_10 = 3, BK_15 = 0\n",
      "DOR_10 = 0, DOR_15 = 0, DOR_20 = 0, DOR_25 = 2, BK_5 = 0, BK_10 = 2, BK_15 = 1\n",
      "DOR_10 = 0, DOR_15 = 0, DOR_20 = 0, DOR_25 = 2, BK_5 = 3, BK_10 = 2, BK_15 = 0\n",
      "DOR_10 = 0, DOR_15 = 0, DOR_20 = 0, DOR_25 = 2, BK_5 = 2, BK_10 = 1, BK_15 = 1\n",
      "DOR_10 = 0, DOR_15 = 0, DOR_20 = 0, DOR_25 = 2, BK_5 = 5, BK_10 = 1, BK_15 = 0\n",
      "DOR_10 = 0, DOR_15 = 0, DOR_20 = 0, DOR_25 = 2, BK_5 = 1, BK_10 = 0, BK_15 = 2\n",
      "DOR_10 = 0, DOR_15 = 0, DOR_20 = 0, DOR_25 = 2, BK_5 = 4, BK_10 = 0, BK_15 = 1\n",
      "DOR_10 = 0, DOR_15 = 0, DOR_20 = 0, DOR_25 = 2, BK_5 = 7, BK_10 = 0, BK_15 = 0\n",
      "DOR_10 = 0, DOR_15 = 0, DOR_20 = 0, DOR_25 = 1, BK_5 = 0, BK_10 = 6, BK_15 = 0\n",
      "DOR_10 = 0, DOR_15 = 0, DOR_20 = 0, DOR_25 = 1, BK_5 = 2, BK_10 = 5, BK_15 = 0\n",
      "DOR_10 = 0, DOR_15 = 0, DOR_20 = 0, DOR_25 = 1, BK_5 = 1, BK_10 = 4, BK_15 = 1\n",
      "DOR_10 = 0, DOR_15 = 0, DOR_20 = 0, DOR_25 = 1, BK_5 = 4, BK_10 = 4, BK_15 = 0\n",
      "DOR_10 = 0, DOR_15 = 0, DOR_20 = 0, DOR_25 = 1, BK_5 = 0, BK_10 = 3, BK_15 = 2\n",
      "DOR_10 = 0, DOR_15 = 0, DOR_20 = 0, DOR_25 = 1, BK_5 = 3, BK_10 = 3, BK_15 = 1\n",
      "DOR_10 = 0, DOR_15 = 0, DOR_20 = 0, DOR_25 = 1, BK_5 = 6, BK_10 = 3, BK_15 = 0\n",
      "DOR_10 = 0, DOR_15 = 0, DOR_20 = 0, DOR_25 = 1, BK_5 = 2, BK_10 = 2, BK_15 = 2\n",
      "DOR_10 = 0, DOR_15 = 0, DOR_20 = 0, DOR_25 = 1, BK_5 = 5, BK_10 = 2, BK_15 = 1\n",
      "DOR_10 = 0, DOR_15 = 0, DOR_20 = 0, DOR_25 = 1, BK_5 = 8, BK_10 = 2, BK_15 = 0\n",
      "DOR_10 = 0, DOR_15 = 0, DOR_20 = 0, DOR_25 = 1, BK_5 = 1, BK_10 = 1, BK_15 = 3\n",
      "DOR_10 = 0, DOR_15 = 0, DOR_20 = 0, DOR_25 = 1, BK_5 = 4, BK_10 = 1, BK_15 = 2\n",
      "DOR_10 = 0, DOR_15 = 0, DOR_20 = 0, DOR_25 = 1, BK_5 = 7, BK_10 = 1, BK_15 = 1\n",
      "DOR_10 = 0, DOR_15 = 0, DOR_20 = 0, DOR_25 = 1, BK_5 = 10, BK_10 = 1, BK_15 = 0\n",
      "DOR_10 = 0, DOR_15 = 0, DOR_20 = 0, DOR_25 = 1, BK_5 = 0, BK_10 = 0, BK_15 = 4\n",
      "DOR_10 = 0, DOR_15 = 0, DOR_20 = 0, DOR_25 = 1, BK_5 = 3, BK_10 = 0, BK_15 = 3\n",
      "DOR_10 = 0, DOR_15 = 0, DOR_20 = 0, DOR_25 = 1, BK_5 = 6, BK_10 = 0, BK_15 = 2\n",
      "DOR_10 = 0, DOR_15 = 0, DOR_20 = 0, DOR_25 = 1, BK_5 = 9, BK_10 = 0, BK_15 = 1\n",
      "DOR_10 = 0, DOR_15 = 0, DOR_20 = 0, DOR_25 = 1, BK_5 = 12, BK_10 = 0, BK_15 = 0\n",
      "DOR_10 = 0, DOR_15 = 0, DOR_20 = 0, DOR_25 = 0, BK_5 = 1, BK_10 = 8, BK_15 = 0\n",
      "DOR_10 = 0, DOR_15 = 0, DOR_20 = 0, DOR_25 = 0, BK_5 = 0, BK_10 = 7, BK_15 = 1\n",
      "DOR_10 = 0, DOR_15 = 0, DOR_20 = 0, DOR_25 = 0, BK_5 = 3, BK_10 = 7, BK_15 = 0\n",
      "DOR_10 = 0, DOR_15 = 0, DOR_20 = 0, DOR_25 = 0, BK_5 = 2, BK_10 = 6, BK_15 = 1\n",
      "DOR_10 = 0, DOR_15 = 0, DOR_20 = 0, DOR_25 = 0, BK_5 = 5, BK_10 = 6, BK_15 = 0\n",
      "DOR_10 = 0, DOR_15 = 0, DOR_20 = 0, DOR_25 = 0, BK_5 = 1, BK_10 = 5, BK_15 = 2\n",
      "DOR_10 = 0, DOR_15 = 0, DOR_20 = 0, DOR_25 = 0, BK_5 = 4, BK_10 = 5, BK_15 = 1\n",
      "DOR_10 = 0, DOR_15 = 0, DOR_20 = 0, DOR_25 = 0, BK_5 = 7, BK_10 = 5, BK_15 = 0\n",
      "DOR_10 = 0, DOR_15 = 0, DOR_20 = 0, DOR_25 = 0, BK_5 = 0, BK_10 = 4, BK_15 = 3\n",
      "DOR_10 = 0, DOR_15 = 0, DOR_20 = 0, DOR_25 = 0, BK_5 = 3, BK_10 = 4, BK_15 = 2\n",
      "DOR_10 = 0, DOR_15 = 0, DOR_20 = 0, DOR_25 = 0, BK_5 = 6, BK_10 = 4, BK_15 = 1\n",
      "DOR_10 = 0, DOR_15 = 0, DOR_20 = 0, DOR_25 = 0, BK_5 = 9, BK_10 = 4, BK_15 = 0\n",
      "DOR_10 = 0, DOR_15 = 0, DOR_20 = 0, DOR_25 = 0, BK_5 = 2, BK_10 = 3, BK_15 = 3\n",
      "DOR_10 = 0, DOR_15 = 0, DOR_20 = 0, DOR_25 = 0, BK_5 = 5, BK_10 = 3, BK_15 = 2\n",
      "DOR_10 = 0, DOR_15 = 0, DOR_20 = 0, DOR_25 = 0, BK_5 = 8, BK_10 = 3, BK_15 = 1\n",
      "DOR_10 = 0, DOR_15 = 0, DOR_20 = 0, DOR_25 = 0, BK_5 = 11, BK_10 = 3, BK_15 = 0\n",
      "DOR_10 = 0, DOR_15 = 0, DOR_20 = 0, DOR_25 = 0, BK_5 = 1, BK_10 = 2, BK_15 = 4\n",
      "DOR_10 = 0, DOR_15 = 0, DOR_20 = 0, DOR_25 = 0, BK_5 = 4, BK_10 = 2, BK_15 = 3\n",
      "DOR_10 = 0, DOR_15 = 0, DOR_20 = 0, DOR_25 = 0, BK_5 = 7, BK_10 = 2, BK_15 = 2\n",
      "DOR_10 = 0, DOR_15 = 0, DOR_20 = 0, DOR_25 = 0, BK_5 = 10, BK_10 = 2, BK_15 = 1\n",
      "DOR_10 = 0, DOR_15 = 0, DOR_20 = 0, DOR_25 = 0, BK_5 = 13, BK_10 = 2, BK_15 = 0\n",
      "DOR_10 = 0, DOR_15 = 0, DOR_20 = 0, DOR_25 = 0, BK_5 = 0, BK_10 = 1, BK_15 = 5\n",
      "DOR_10 = 0, DOR_15 = 0, DOR_20 = 0, DOR_25 = 0, BK_5 = 3, BK_10 = 1, BK_15 = 4\n",
      "DOR_10 = 0, DOR_15 = 0, DOR_20 = 0, DOR_25 = 0, BK_5 = 6, BK_10 = 1, BK_15 = 3\n",
      "DOR_10 = 0, DOR_15 = 0, DOR_20 = 0, DOR_25 = 0, BK_5 = 9, BK_10 = 1, BK_15 = 2\n",
      "DOR_10 = 0, DOR_15 = 0, DOR_20 = 0, DOR_25 = 0, BK_5 = 12, BK_10 = 1, BK_15 = 1\n",
      "DOR_10 = 0, DOR_15 = 0, DOR_20 = 0, DOR_25 = 0, BK_5 = 15, BK_10 = 1, BK_15 = 0\n",
      "DOR_10 = 0, DOR_15 = 0, DOR_20 = 0, DOR_25 = 0, BK_5 = 2, BK_10 = 0, BK_15 = 5\n",
      "DOR_10 = 0, DOR_15 = 0, DOR_20 = 0, DOR_25 = 0, BK_5 = 5, BK_10 = 0, BK_15 = 4\n",
      "DOR_10 = 0, DOR_15 = 0, DOR_20 = 0, DOR_25 = 0, BK_5 = 8, BK_10 = 0, BK_15 = 3\n",
      "DOR_10 = 0, DOR_15 = 0, DOR_20 = 0, DOR_25 = 0, BK_5 = 11, BK_10 = 0, BK_15 = 2\n",
      "DOR_10 = 0, DOR_15 = 0, DOR_20 = 0, DOR_25 = 0, BK_5 = 14, BK_10 = 0, BK_15 = 1\n",
      "DOR_10 = 0, DOR_15 = 0, DOR_20 = 0, DOR_25 = 0, BK_5 = 17, BK_10 = 0, BK_15 = 0\n"
     ]
    },
    {
     "data": {
      "text/plain": [
       "['DOR_10', 'DOR_15', 'DOR_20', 'DOR_25', 'BK_10', 'BK_15', 'BK_5', 'Option']"
      ]
     },
     "execution_count": 12,
     "metadata": {},
     "output_type": "execute_result"
    }
   ],
   "source": [
    "import constraint\n",
    "import pandas as pd\n",
    "from random import randint\n",
    "\n",
    "problem = constraint.Problem()\n",
    "\n",
    "problem.addVariable('DOR_10', range(0,1))\n",
    "problem.addVariable('DOR_15', range(0,1)) \n",
    "problem.addVariable('DOR_20', range(0,1)) \n",
    "problem.addVariable('DOR_25', range(0,5)) \n",
    "problem.addVariable('BK_5', range(0,50)) \n",
    "problem.addVariable('BK_10', range(0,50))\n",
    "problem.addVariable('BK_15', range(0,50))\n",
    "\n",
    "def vac_constraint(DOR_10, DOR_15, DOR_20, DOR_25, BK_5, BK_10, BK_15):\n",
    "    if (DOR_10*240 + DOR_15*360 + DOR_20*480 + DOR_25*600 + BK_5*120 + BK_10*240 + BK_15*360 > 2000) and (DOR_10*240 + DOR_15*360 + DOR_20*480 + DOR_25*600 + BK_5*120 + BK_10*240 + BK_15*360 < 2050):\n",
    "        return True\n",
    "\n",
    "problem.addConstraint(vac_constraint, ['DOR_10', 'DOR_15', 'DOR_20', 'DOR_25', 'BK_5', 'BK_10', 'BK_15'])\n",
    "\n",
    "solutions = problem.getSolutions() \n",
    "print(\"Number of solutions found: {}\\n\".format(len(solutions)))\n",
    "\n",
    "for s in solutions:\n",
    "    print(\"DOR_10 = {}, DOR_15 = {}, DOR_20 = {}, DOR_25 = {}, BK_5 = {}, BK_10 = {}, BK_15 = {}\"\n",
    "        .format(s['DOR_10'], s['DOR_15'], s['DOR_20'], s['DOR_25'], s['BK_5'], s['BK_10'], s['BK_15']))\n",
    "\n",
    "df = pd.DataFrame(solutions)\n",
    "df['Option'] = 'Option-' + df.index.astype(str)\n",
    "df.columns.tolist()\n",
    "    "
   ]
  },
  {
   "cell_type": "code",
   "execution_count": 10,
   "metadata": {},
   "outputs": [],
   "source": []
  }
 ],
 "metadata": {
  "kernelspec": {
   "display_name": "Python 3",
   "language": "python",
   "name": "python3"
  },
  "language_info": {
   "codemirror_mode": {
    "name": "ipython",
    "version": 3
   },
   "file_extension": ".py",
   "mimetype": "text/x-python",
   "name": "python",
   "nbconvert_exporter": "python",
   "pygments_lexer": "ipython3",
   "version": "3.8.5"
  }
 },
 "nbformat": 4,
 "nbformat_minor": 4
}
